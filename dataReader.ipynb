{
  "nbformat": 4,
  "nbformat_minor": 0,
  "metadata": {
    "colab": {
      "name": "dataReader.ipynb",
      "version": "0.3.2",
      "provenance": [],
      "collapsed_sections": []
    },
    "kernelspec": {
      "name": "python3",
      "display_name": "Python 3"
    }
  },
  "cells": [
    {
      "metadata": {
        "id": "E1mK6apQOCOt",
        "colab_type": "code",
        "colab": {}
      },
      "cell_type": "code",
      "source": [
        "import pandas as pd\n",
        "import numpy as np\n",
        "from scipy.sparse import csr_matrix\n",
        "\n",
        "# display results to 3 decimal points, not in scientific notation\n",
        "pd.set_option('display.float_format', lambda x: '%.3f' % x)"
      ],
      "execution_count": 0,
      "outputs": []
    },
    {
      "metadata": {
        "id": "nZEyDDjsOEIn",
        "colab_type": "code",
        "colab": {}
      },
      "cell_type": "code",
      "source": [
        "user_data = pd.read_table('usersha1-artmbid-artname-plays.tsv',\n",
        "                          header = None, nrows = 2e7,\n",
        "                          names = ['users', 'musicbrainz-artist-id', 'artist-name', 'plays'],\n",
        "                          usecols = ['users', 'artist-name', 'plays'])\n",
        "user_profiles = pd.read_table('usersha1-profile.tsv',\n",
        "                          header = None,\n",
        "                          names = ['users', 'gender', 'age', 'country', 'signup'],\n",
        "                          usecols = ['users', 'country'])"
      ],
      "execution_count": 0,
      "outputs": []
    },
    {
      "metadata": {
        "id": "HFcOxdMEOjej",
        "colab_type": "code",
        "outputId": "ba368f05-b2d5-4a45-add0-bcf47bbb94a5",
        "colab": {
          "base_uri": "https://localhost:8080/",
          "height": 204
        }
      },
      "cell_type": "code",
      "source": [
        "user_data.head()\n"
      ],
      "execution_count": 3,
      "outputs": [
        {
          "output_type": "execute_result",
          "data": {
            "text/html": [
              "<div>\n",
              "<style scoped>\n",
              "    .dataframe tbody tr th:only-of-type {\n",
              "        vertical-align: middle;\n",
              "    }\n",
              "\n",
              "    .dataframe tbody tr th {\n",
              "        vertical-align: top;\n",
              "    }\n",
              "\n",
              "    .dataframe thead th {\n",
              "        text-align: right;\n",
              "    }\n",
              "</style>\n",
              "<table border=\"1\" class=\"dataframe\">\n",
              "  <thead>\n",
              "    <tr style=\"text-align: right;\">\n",
              "      <th></th>\n",
              "      <th>users</th>\n",
              "      <th>artist-name</th>\n",
              "      <th>plays</th>\n",
              "    </tr>\n",
              "  </thead>\n",
              "  <tbody>\n",
              "    <tr>\n",
              "      <th>0</th>\n",
              "      <td>00000c289a1829a808ac09c00daf10bc3c4e223b</td>\n",
              "      <td>betty blowtorch</td>\n",
              "      <td>2137.000</td>\n",
              "    </tr>\n",
              "    <tr>\n",
              "      <th>1</th>\n",
              "      <td>00000c289a1829a808ac09c00daf10bc3c4e223b</td>\n",
              "      <td>die Ärzte</td>\n",
              "      <td>1099.000</td>\n",
              "    </tr>\n",
              "    <tr>\n",
              "      <th>2</th>\n",
              "      <td>00000c289a1829a808ac09c00daf10bc3c4e223b</td>\n",
              "      <td>melissa etheridge</td>\n",
              "      <td>897.000</td>\n",
              "    </tr>\n",
              "    <tr>\n",
              "      <th>3</th>\n",
              "      <td>00000c289a1829a808ac09c00daf10bc3c4e223b</td>\n",
              "      <td>elvenking</td>\n",
              "      <td>717.000</td>\n",
              "    </tr>\n",
              "    <tr>\n",
              "      <th>4</th>\n",
              "      <td>00000c289a1829a808ac09c00daf10bc3c4e223b</td>\n",
              "      <td>juliette &amp; the licks</td>\n",
              "      <td>706.000</td>\n",
              "    </tr>\n",
              "  </tbody>\n",
              "</table>\n",
              "</div>"
            ],
            "text/plain": [
              "                                      users           artist-name    plays\n",
              "0  00000c289a1829a808ac09c00daf10bc3c4e223b       betty blowtorch 2137.000\n",
              "1  00000c289a1829a808ac09c00daf10bc3c4e223b             die Ärzte 1099.000\n",
              "2  00000c289a1829a808ac09c00daf10bc3c4e223b     melissa etheridge  897.000\n",
              "3  00000c289a1829a808ac09c00daf10bc3c4e223b             elvenking  717.000\n",
              "4  00000c289a1829a808ac09c00daf10bc3c4e223b  juliette & the licks  706.000"
            ]
          },
          "metadata": {
            "tags": []
          },
          "execution_count": 3
        }
      ]
    },
    {
      "metadata": {
        "id": "dTSPmQEjO174",
        "colab_type": "code",
        "colab": {}
      },
      "cell_type": "code",
      "source": [
        "user_profiles.head()"
      ],
      "execution_count": 0,
      "outputs": []
    },
    {
      "metadata": {
        "id": "Ce4wOXkJPAm_",
        "colab_type": "code",
        "colab": {}
      },
      "cell_type": "code",
      "source": [
        "if user_data['artist-name'].isnull().sum() > 0:\n",
        "    user_data = user_data.dropna(axis = 0, subset = ['artist-name'])"
      ],
      "execution_count": 0,
      "outputs": []
    },
    {
      "metadata": {
        "id": "ZSerRJvFx2EZ",
        "colab_type": "code",
        "outputId": "73471597-597b-4030-d959-f3b61fc0ab8a",
        "colab": {
          "base_uri": "https://localhost:8080/",
          "height": 292
        }
      },
      "cell_type": "code",
      "source": [
        "artist_plays = (user_data.\n",
        "     groupby(by = ['artist-name'])['plays'].\n",
        "     sum().\n",
        "     reset_index().\n",
        "     rename(columns = {'plays': 'total_artist_plays'})\n",
        "     [['artist-name', 'total_artist_plays']]\n",
        "    )\n",
        "artist_plays.head()\n",
        "user_data_with_artist_plays = user_data.merge(artist_plays, left_on = 'artist-name', right_on = 'artist-name', how = 'left')\n",
        "user_data_with_artist_plays.head()"
      ],
      "execution_count": 7,
      "outputs": [
        {
          "output_type": "execute_result",
          "data": {
            "text/html": [
              "<div>\n",
              "<style scoped>\n",
              "    .dataframe tbody tr th:only-of-type {\n",
              "        vertical-align: middle;\n",
              "    }\n",
              "\n",
              "    .dataframe tbody tr th {\n",
              "        vertical-align: top;\n",
              "    }\n",
              "\n",
              "    .dataframe thead th {\n",
              "        text-align: right;\n",
              "    }\n",
              "</style>\n",
              "<table border=\"1\" class=\"dataframe\">\n",
              "  <thead>\n",
              "    <tr style=\"text-align: right;\">\n",
              "      <th></th>\n",
              "      <th>users</th>\n",
              "      <th>artist-name</th>\n",
              "      <th>plays</th>\n",
              "      <th>total_artist_plays</th>\n",
              "    </tr>\n",
              "  </thead>\n",
              "  <tbody>\n",
              "    <tr>\n",
              "      <th>0</th>\n",
              "      <td>00000c289a1829a808ac09c00daf10bc3c4e223b</td>\n",
              "      <td>betty blowtorch</td>\n",
              "      <td>2137.000</td>\n",
              "      <td>6456.000</td>\n",
              "    </tr>\n",
              "    <tr>\n",
              "      <th>1</th>\n",
              "      <td>00000c289a1829a808ac09c00daf10bc3c4e223b</td>\n",
              "      <td>die Ärzte</td>\n",
              "      <td>1099.000</td>\n",
              "      <td>835919.000</td>\n",
              "    </tr>\n",
              "    <tr>\n",
              "      <th>2</th>\n",
              "      <td>00000c289a1829a808ac09c00daf10bc3c4e223b</td>\n",
              "      <td>melissa etheridge</td>\n",
              "      <td>897.000</td>\n",
              "      <td>42805.000</td>\n",
              "    </tr>\n",
              "    <tr>\n",
              "      <th>3</th>\n",
              "      <td>00000c289a1829a808ac09c00daf10bc3c4e223b</td>\n",
              "      <td>elvenking</td>\n",
              "      <td>717.000</td>\n",
              "      <td>104473.000</td>\n",
              "    </tr>\n",
              "    <tr>\n",
              "      <th>4</th>\n",
              "      <td>00000c289a1829a808ac09c00daf10bc3c4e223b</td>\n",
              "      <td>juliette &amp; the licks</td>\n",
              "      <td>706.000</td>\n",
              "      <td>21702.000</td>\n",
              "    </tr>\n",
              "  </tbody>\n",
              "</table>\n",
              "</div>"
            ],
            "text/plain": [
              "                                      users           artist-name    plays  \\\n",
              "0  00000c289a1829a808ac09c00daf10bc3c4e223b       betty blowtorch 2137.000   \n",
              "1  00000c289a1829a808ac09c00daf10bc3c4e223b             die Ärzte 1099.000   \n",
              "2  00000c289a1829a808ac09c00daf10bc3c4e223b     melissa etheridge  897.000   \n",
              "3  00000c289a1829a808ac09c00daf10bc3c4e223b             elvenking  717.000   \n",
              "4  00000c289a1829a808ac09c00daf10bc3c4e223b  juliette & the licks  706.000   \n",
              "\n",
              "   total_artist_plays  \n",
              "0            6456.000  \n",
              "1          835919.000  \n",
              "2           42805.000  \n",
              "3          104473.000  \n",
              "4           21702.000  "
            ]
          },
          "metadata": {
            "tags": []
          },
          "execution_count": 7
        }
      ]
    },
    {
      "metadata": {
        "id": "R7i9dHifyDrK",
        "colab_type": "code",
        "outputId": "0193d97e-00d7-48e4-f67e-ff6dcd45b74e",
        "colab": {
          "base_uri": "https://localhost:8080/",
          "height": 326
        }
      },
      "cell_type": "code",
      "source": [
        "popularity_threshold = 40000\n",
        "user_data_popular_artists = user_data_with_artist_plays.query('total_artist_plays >= @popularity_threshold')\n",
        "user_data_popular_artists.head()"
      ],
      "execution_count": 8,
      "outputs": [
        {
          "output_type": "execute_result",
          "data": {
            "text/html": [
              "<div>\n",
              "<style scoped>\n",
              "    .dataframe tbody tr th:only-of-type {\n",
              "        vertical-align: middle;\n",
              "    }\n",
              "\n",
              "    .dataframe tbody tr th {\n",
              "        vertical-align: top;\n",
              "    }\n",
              "\n",
              "    .dataframe thead th {\n",
              "        text-align: right;\n",
              "    }\n",
              "</style>\n",
              "<table border=\"1\" class=\"dataframe\">\n",
              "  <thead>\n",
              "    <tr style=\"text-align: right;\">\n",
              "      <th></th>\n",
              "      <th>users</th>\n",
              "      <th>artist-name</th>\n",
              "      <th>plays</th>\n",
              "      <th>total_artist_plays</th>\n",
              "    </tr>\n",
              "  </thead>\n",
              "  <tbody>\n",
              "    <tr>\n",
              "      <th>1</th>\n",
              "      <td>00000c289a1829a808ac09c00daf10bc3c4e223b</td>\n",
              "      <td>die Ärzte</td>\n",
              "      <td>1099.000</td>\n",
              "      <td>835919.000</td>\n",
              "    </tr>\n",
              "    <tr>\n",
              "      <th>2</th>\n",
              "      <td>00000c289a1829a808ac09c00daf10bc3c4e223b</td>\n",
              "      <td>melissa etheridge</td>\n",
              "      <td>897.000</td>\n",
              "      <td>42805.000</td>\n",
              "    </tr>\n",
              "    <tr>\n",
              "      <th>3</th>\n",
              "      <td>00000c289a1829a808ac09c00daf10bc3c4e223b</td>\n",
              "      <td>elvenking</td>\n",
              "      <td>717.000</td>\n",
              "      <td>104473.000</td>\n",
              "    </tr>\n",
              "    <tr>\n",
              "      <th>5</th>\n",
              "      <td>00000c289a1829a808ac09c00daf10bc3c4e223b</td>\n",
              "      <td>red hot chili peppers</td>\n",
              "      <td>691.000</td>\n",
              "      <td>3221675.000</td>\n",
              "    </tr>\n",
              "    <tr>\n",
              "      <th>7</th>\n",
              "      <td>00000c289a1829a808ac09c00daf10bc3c4e223b</td>\n",
              "      <td>the black dahlia murder</td>\n",
              "      <td>507.000</td>\n",
              "      <td>232786.000</td>\n",
              "    </tr>\n",
              "  </tbody>\n",
              "</table>\n",
              "</div>"
            ],
            "text/plain": [
              "                                      users              artist-name    plays  \\\n",
              "1  00000c289a1829a808ac09c00daf10bc3c4e223b                die Ärzte 1099.000   \n",
              "2  00000c289a1829a808ac09c00daf10bc3c4e223b        melissa etheridge  897.000   \n",
              "3  00000c289a1829a808ac09c00daf10bc3c4e223b                elvenking  717.000   \n",
              "5  00000c289a1829a808ac09c00daf10bc3c4e223b    red hot chili peppers  691.000   \n",
              "7  00000c289a1829a808ac09c00daf10bc3c4e223b  the black dahlia murder  507.000   \n",
              "\n",
              "   total_artist_plays  \n",
              "1          835919.000  \n",
              "2           42805.000  \n",
              "3          104473.000  \n",
              "5         3221675.000  \n",
              "7          232786.000  "
            ]
          },
          "metadata": {
            "tags": []
          },
          "execution_count": 8
        }
      ]
    },
    {
      "metadata": {
        "id": "vba6_FCSyqcV",
        "colab_type": "code",
        "outputId": "d65d9fa5-785e-439a-b067-cd9c0e539879",
        "colab": {
          "base_uri": "https://localhost:8080/",
          "height": 326
        }
      },
      "cell_type": "code",
      "source": [
        "combined = user_data_popular_artists.merge(user_profiles, left_on = 'users', right_on = 'users', how = 'left')\n",
        "usa_data = combined.query('country == \\'United States\\'')\n",
        "usa_data.head()"
      ],
      "execution_count": 9,
      "outputs": [
        {
          "output_type": "execute_result",
          "data": {
            "text/html": [
              "<div>\n",
              "<style scoped>\n",
              "    .dataframe tbody tr th:only-of-type {\n",
              "        vertical-align: middle;\n",
              "    }\n",
              "\n",
              "    .dataframe tbody tr th {\n",
              "        vertical-align: top;\n",
              "    }\n",
              "\n",
              "    .dataframe thead th {\n",
              "        text-align: right;\n",
              "    }\n",
              "</style>\n",
              "<table border=\"1\" class=\"dataframe\">\n",
              "  <thead>\n",
              "    <tr style=\"text-align: right;\">\n",
              "      <th></th>\n",
              "      <th>users</th>\n",
              "      <th>artist-name</th>\n",
              "      <th>plays</th>\n",
              "      <th>total_artist_plays</th>\n",
              "      <th>country</th>\n",
              "    </tr>\n",
              "  </thead>\n",
              "  <tbody>\n",
              "    <tr>\n",
              "      <th>123</th>\n",
              "      <td>00007a47085b9aab8af55f52ec8846ac479ac4fe</td>\n",
              "      <td>devendra banhart</td>\n",
              "      <td>456.000</td>\n",
              "      <td>620383.000</td>\n",
              "      <td>United States</td>\n",
              "    </tr>\n",
              "    <tr>\n",
              "      <th>124</th>\n",
              "      <td>00007a47085b9aab8af55f52ec8846ac479ac4fe</td>\n",
              "      <td>boards of canada</td>\n",
              "      <td>407.000</td>\n",
              "      <td>1500652.000</td>\n",
              "      <td>United States</td>\n",
              "    </tr>\n",
              "    <tr>\n",
              "      <th>125</th>\n",
              "      <td>00007a47085b9aab8af55f52ec8846ac479ac4fe</td>\n",
              "      <td>cocorosie</td>\n",
              "      <td>386.000</td>\n",
              "      <td>544809.000</td>\n",
              "      <td>United States</td>\n",
              "    </tr>\n",
              "    <tr>\n",
              "      <th>126</th>\n",
              "      <td>00007a47085b9aab8af55f52ec8846ac479ac4fe</td>\n",
              "      <td>aphex twin</td>\n",
              "      <td>213.000</td>\n",
              "      <td>1057383.000</td>\n",
              "      <td>United States</td>\n",
              "    </tr>\n",
              "    <tr>\n",
              "      <th>127</th>\n",
              "      <td>00007a47085b9aab8af55f52ec8846ac479ac4fe</td>\n",
              "      <td>animal collective</td>\n",
              "      <td>203.000</td>\n",
              "      <td>873387.000</td>\n",
              "      <td>United States</td>\n",
              "    </tr>\n",
              "  </tbody>\n",
              "</table>\n",
              "</div>"
            ],
            "text/plain": [
              "                                        users        artist-name   plays  \\\n",
              "123  00007a47085b9aab8af55f52ec8846ac479ac4fe   devendra banhart 456.000   \n",
              "124  00007a47085b9aab8af55f52ec8846ac479ac4fe   boards of canada 407.000   \n",
              "125  00007a47085b9aab8af55f52ec8846ac479ac4fe          cocorosie 386.000   \n",
              "126  00007a47085b9aab8af55f52ec8846ac479ac4fe         aphex twin 213.000   \n",
              "127  00007a47085b9aab8af55f52ec8846ac479ac4fe  animal collective 203.000   \n",
              "\n",
              "     total_artist_plays        country  \n",
              "123          620383.000  United States  \n",
              "124         1500652.000  United States  \n",
              "125          544809.000  United States  \n",
              "126         1057383.000  United States  \n",
              "127          873387.000  United States  "
            ]
          },
          "metadata": {
            "tags": []
          },
          "execution_count": 9
        }
      ]
    },
    {
      "metadata": {
        "id": "7BCgGlADyx_n",
        "colab_type": "code",
        "outputId": "56e039ab-58c6-44c0-b9ca-5c2059462429",
        "colab": {
          "base_uri": "https://localhost:8080/",
          "height": 68
        }
      },
      "cell_type": "code",
      "source": [
        "if not usa_data[usa_data.duplicated(['users', 'artist-name'])].empty:\n",
        "    initial_rows = usa_data.shape[0]\n",
        "\n",
        "    print (\"Initial dataframe shape {0}\".format(usa_data.shape))\n",
        "    usa_data = usa_data.drop_duplicates(['users', 'artist-name'])\n",
        "    current_rows = usa_data.shape[0]\n",
        "    print (\"New dataframe shape {0}\".format(usa_data.shape))\n",
        "    print (\"Removed {0} rows\".format(initial_rows - current_rows))\n"
      ],
      "execution_count": 10,
      "outputs": [
        {
          "output_type": "stream",
          "text": [
            "Initial dataframe shape (563154, 5)\n",
            "New dataframe shape (563152, 5)\n",
            "Removed 2 rows\n"
          ],
          "name": "stdout"
        }
      ]
    },
    {
      "metadata": {
        "id": "VX4SWaWXy-rp",
        "colab_type": "code",
        "colab": {}
      },
      "cell_type": "code",
      "source": [
        "artists= usa_data['artist-name']"
      ],
      "execution_count": 0,
      "outputs": []
    },
    {
      "metadata": {
        "id": "gmblc_UqzIAl",
        "colab_type": "code",
        "colab": {}
      },
      "cell_type": "code",
      "source": [
        "tags_data = pd.read_csv('tags_data2.csv',encoding = \"ISO-8859-1\", header=None, names=['artist','similars','tags'])"
      ],
      "execution_count": 0,
      "outputs": []
    },
    {
      "metadata": {
        "id": "1T7Ri7ww0w4Q",
        "colab_type": "code",
        "colab": {
          "base_uri": "https://localhost:8080/",
          "height": 272
        },
        "outputId": "55550c07-f035-43f3-ffee-b82d0258916c"
      },
      "cell_type": "code",
      "source": [
        "tags_data.head()"
      ],
      "execution_count": 17,
      "outputs": [
        {
          "output_type": "execute_result",
          "data": {
            "text/html": [
              "<div>\n",
              "<style scoped>\n",
              "    .dataframe tbody tr th:only-of-type {\n",
              "        vertical-align: middle;\n",
              "    }\n",
              "\n",
              "    .dataframe tbody tr th {\n",
              "        vertical-align: top;\n",
              "    }\n",
              "\n",
              "    .dataframe thead th {\n",
              "        text-align: right;\n",
              "    }\n",
              "</style>\n",
              "<table border=\"1\" class=\"dataframe\">\n",
              "  <thead>\n",
              "    <tr style=\"text-align: right;\">\n",
              "      <th></th>\n",
              "      <th>artist</th>\n",
              "      <th>similars</th>\n",
              "      <th>tags</th>\n",
              "    </tr>\n",
              "  </thead>\n",
              "  <tbody>\n",
              "    <tr>\n",
              "      <th>0</th>\n",
              "      <td>Computer Truck</td>\n",
              "      <td>[]</td>\n",
              "      <td>[]</td>\n",
              "    </tr>\n",
              "    <tr>\n",
              "      <th>1</th>\n",
              "      <td>Lack of Limits</td>\n",
              "      <td>[]</td>\n",
              "      <td>[]</td>\n",
              "    </tr>\n",
              "    <tr>\n",
              "      <th>2</th>\n",
              "      <td>The Kinks</td>\n",
              "      <td>[['TRMLOXQ12903CF06BB', 1], ['TRCOWHF128F93216...</td>\n",
              "      <td>[['classic rock', '100'], ['60s', '76'], ['bri...</td>\n",
              "    </tr>\n",
              "    <tr>\n",
              "      <th>3</th>\n",
              "      <td>Everclear</td>\n",
              "      <td>[]</td>\n",
              "      <td>[]</td>\n",
              "    </tr>\n",
              "    <tr>\n",
              "      <th>4</th>\n",
              "      <td>Paula Abdul</td>\n",
              "      <td>[['TRALFWK128F1458532', 1], ['TRRMRMZ128F14585...</td>\n",
              "      <td>[['pop', '100'], ['female vocalists', '66'], [...</td>\n",
              "    </tr>\n",
              "  </tbody>\n",
              "</table>\n",
              "</div>"
            ],
            "text/plain": [
              "           artist                                           similars  \\\n",
              "0  Computer Truck                                                 []   \n",
              "1  Lack of Limits                                                 []   \n",
              "2       The Kinks  [['TRMLOXQ12903CF06BB', 1], ['TRCOWHF128F93216...   \n",
              "3       Everclear                                                 []   \n",
              "4     Paula Abdul  [['TRALFWK128F1458532', 1], ['TRRMRMZ128F14585...   \n",
              "\n",
              "                                                tags  \n",
              "0                                                 []  \n",
              "1                                                 []  \n",
              "2  [['classic rock', '100'], ['60s', '76'], ['bri...  \n",
              "3                                                 []  \n",
              "4  [['pop', '100'], ['female vocalists', '66'], [...  "
            ]
          },
          "metadata": {
            "tags": []
          },
          "execution_count": 17
        }
      ]
    },
    {
      "metadata": {
        "id": "4S-7eSln9L0f",
        "colab_type": "code",
        "colab": {}
      },
      "cell_type": "code",
      "source": [
        ""
      ],
      "execution_count": 0,
      "outputs": []
    }
  ]
}