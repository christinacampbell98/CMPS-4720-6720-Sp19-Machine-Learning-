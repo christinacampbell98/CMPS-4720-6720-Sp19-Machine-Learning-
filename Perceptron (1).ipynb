{
 "cells": [
  {
   "cell_type": "markdown",
   "metadata": {},
   "source": [
    "# Christina Campbell\n",
    "#PARTNER: SAM EIGEN "
   ]
  },
  {
   "cell_type": "code",
   "execution_count": 24,
   "metadata": {},
   "outputs": [],
   "source": [
    "# CREATE A PERCEPTRON CLASS WITH THE TRAIN FUNCTION AND THE OUTPUT FUNCTION DEFINED\n",
    "import numpy as np\n",
    "import math\n",
    "\n",
    "class Perceptron(object):\n",
    "\n",
    "    def __init__(self, no_of_inputs, threshold=50, learning_rate=0.02):\n",
    "        self.threshold = threshold\n",
    "        self.learning_rate = learning_rate\n",
    "        self.w = np.zeros(no_of_inputs + 1)\n",
    "           \n",
    "    def predict(self, inputs):\n",
    "        sigma = np.dot(inputs, self.w[1:]) + self.w[0]\n",
    "        sigmoid = 1/(1+math.exp(-sigma))\n",
    "        if sigmoid > 0:\n",
    "          result = 1\n",
    "        else:\n",
    "          result = 0            \n",
    "        return result\n",
    "\n",
    "    def train(self, training_inputs, ts):\n",
    "        for _ in range(self.threshold):\n",
    "            for inputs, t in zip(training_inputs, ts):\n",
    "                o = self.predict(inputs)\n",
    "                self.w[1:] += self.learning_rate * np.dot((t - o), inputs)\n",
    "                self.w[0] += self.learning_rate * (t - o)"
   ]
  },
  {
   "cell_type": "code",
   "execution_count": 25,
   "metadata": {},
   "outputs": [
    {
     "ename": "ModuleNotFoundError",
     "evalue": "No module named 'panda'",
     "output_type": "error",
     "traceback": [
      "\u001b[0;31m---------------------------------------------------------------------------\u001b[0m",
      "\u001b[0;31mModuleNotFoundError\u001b[0m                       Traceback (most recent call last)",
      "\u001b[0;32m<ipython-input-25-84e469fb0dc9>\u001b[0m in \u001b[0;36m<module>\u001b[0;34m\u001b[0m\n\u001b[1;32m      1\u001b[0m \u001b[0;31m# import the data and divide into features and expected results (t)\u001b[0m\u001b[0;34m\u001b[0m\u001b[0;34m\u001b[0m\u001b[0;34m\u001b[0m\u001b[0m\n\u001b[0;32m----> 2\u001b[0;31m \u001b[0;32mimport\u001b[0m \u001b[0mpanda\u001b[0m\u001b[0;34m\u001b[0m\u001b[0;34m\u001b[0m\u001b[0m\n\u001b[0m\u001b[1;32m      3\u001b[0m \u001b[0;32mimport\u001b[0m \u001b[0mnumpy\u001b[0m \u001b[0;32mas\u001b[0m \u001b[0mnp\u001b[0m\u001b[0;34m\u001b[0m\u001b[0;34m\u001b[0m\u001b[0m\n\u001b[1;32m      4\u001b[0m \u001b[0;32mimport\u001b[0m \u001b[0mmatplotlib\u001b[0m\u001b[0;34m.\u001b[0m\u001b[0mpyplot\u001b[0m \u001b[0;32mas\u001b[0m \u001b[0mplt\u001b[0m\u001b[0;34m\u001b[0m\u001b[0;34m\u001b[0m\u001b[0m\n\u001b[1;32m      5\u001b[0m \u001b[0;34m\u001b[0m\u001b[0m\n",
      "\u001b[0;31mModuleNotFoundError\u001b[0m: No module named 'panda'"
     ]
    }
   ],
   "source": [
    "# import the data and divide into features and expected results (t)\n",
    "import panda\n",
    "import numpy as np\n",
    "import matplotlib.pyplot as plt\n",
    "\n",
    "trainData = pd.read_csv(\"/Users/christinacampbell/Downloads/SPECT.train.txt\", sep = \",\", names = [\"F1\",\"F2\",\"F3\", \"F4\",\"F5\",\"F6\", \"F7\", \"F8\", \"F9\", \"F10\", \"F11\", \"F12\", \"F13\", \"F14\", \"F15\", \"F16\", \"F17\", \"F18\", \"F19\", \"F20\", \"F21\" ,\"F22\",\"F23\"])\n",
    "Y= trainData.F1\n",
    "X = trainData.drop('F1', axis=1)\n",
    "\n"
   ]
  },
  {
   "cell_type": "code",
   "execution_count": null,
   "metadata": {
    "scrolled": true
   },
   "outputs": [],
   "source": [
    "#turn the X and Y data into arrays that can easily be iterated\n",
    "trainingX = []\n",
    "for i in range(80):\n",
    "    trainingX.append(np.array(X.iloc[i].values))\n",
    "trainingY= (np.array(Y))\n"
   ]
  },
  {
   "cell_type": "code",
   "execution_count": 26,
   "metadata": {
    "scrolled": false
   },
   "outputs": [],
   "source": [
    "#train the perceptron with the train data\n",
    "trainingPerceptron = Perceptron(22)\n",
    "trainingPerceptron.train(trainingX, trainingY)\n"
   ]
  },
  {
   "cell_type": "code",
   "execution_count": 27,
   "metadata": {},
   "outputs": [],
   "source": [
    "#import the testing data, and turn X and Y into arrays that can easily be iterated\n",
    "testData = pd.read_csv(\"/Users/christinacampbell/Downloads/SPECT.test.txt\", sep = \",\", names = [\"F1\",\"F2\",\"F3\", \"F4\",\"F5\",\"F6\", \"F7\", \"F8\", \"F9\", \"F10\", \"F11\", \"F12\", \"F13\", \"F14\", \"F15\", \"F16\", \"F17\", \"F18\", \"F19\", \"F20\", \"F21\" ,\"F22\",\"F23\"])\n",
    "Y= testData.F1\n",
    "X = testData.drop('F1', axis=1)\n",
    "testingX = []\n",
    "for i in range(187):\n",
    "    testingX.append(np.array(X.iloc[i].values))\n",
    "    #trainingY.append(np.array(Y[0])\n",
    "testingY= (np.array(Y))\n",
    "\n"
   ]
  },
  {
   "cell_type": "code",
   "execution_count": 28,
   "metadata": {
    "scrolled": false
   },
   "outputs": [],
   "source": [
    "#create a function that calculates and returns the accuracy of the training\n",
    "def accuracy(testingResults, testingY):\n",
    "    correct = 0\n",
    "    for i in range(len(testingResults)):\n",
    "        if testingY[i] == testingResults[i]:\n",
    "            correct += 1\n",
    "    return (correct / float(len(testingY)) * 100.0)"
   ]
  },
  {
   "cell_type": "code",
   "execution_count": 29,
   "metadata": {},
   "outputs": [
    {
     "name": "stdout",
     "output_type": "stream",
     "text": [
      "accuracy: \n",
      "91.97860962566845\n"
     ]
    }
   ],
   "source": [
    "#test the testing data by calling the predict function on each sample of the data, and seeing if the output matches the expected result\n",
    "testingResults=[]\n",
    "failed=0\n",
    "for i in range(187):\n",
    "    test= trainingPerceptron.predict(testingX[i])\n",
    "    testingResults.append(test)\n",
    "print(\"accuracy: \")\n",
    "print(accuracy(testingResults,testingY))"
   ]
  }
 ],
 "metadata": {
  "kernelspec": {
   "display_name": "Python 3",
   "language": "python",
   "name": "python3"
  },
  "language_info": {
   "codemirror_mode": {
    "name": "ipython",
    "version": 3
   },
   "file_extension": ".py",
   "mimetype": "text/x-python",
   "name": "python",
   "nbconvert_exporter": "python",
   "pygments_lexer": "ipython3",
   "version": "3.7.1"
  }
 },
 "nbformat": 4,
 "nbformat_minor": 2
}
